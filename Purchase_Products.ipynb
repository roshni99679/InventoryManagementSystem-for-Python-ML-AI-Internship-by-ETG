{
  "nbformat": 4,
  "nbformat_minor": 0,
  "metadata": {
    "colab": {
      "name": "Purchase_Products",
      "provenance": [],
      "collapsed_sections": []
    },
    "kernelspec": {
      "name": "python3",
      "display_name": "Python 3"
    },
    "language_info": {
      "name": "python"
    }
  },
  "cells": [
    {
      "cell_type": "code",
      "metadata": {
        "colab": {
          "base_uri": "https://localhost:8080/"
        },
        "id": "HBZuAP8dQ0Ks",
        "outputId": "b6cc1a2b-2a63-4cd3-8631-06bcf2c84752"
      },
      "source": [
        "import json\n",
        "fd=open('record.json','r')\n",
        "r=fd.read()\n",
        "record=json.loads(r)\n",
        "record"
      ],
      "execution_count": 18,
      "outputs": [
        {
          "output_type": "execute_result",
          "data": {
            "text/plain": [
              "{'1001': {'name': 'Choco Cake', 'pr': 100, 'qn': 34},\n",
              " '1002': {'name': 'Milk Cake', 'pr': 800, 'qn': 100},\n",
              " '1003': {'name': 'Drink', 'pr': 85, 'qn': 100},\n",
              " '1004': {'name': 'Candy', 'pr': 5, 'qn': 1000},\n",
              " '1005': {'name': 'Pen', 'pr': 20, 'qn': 100},\n",
              " '1006': {'name': 'Phone', 'pr': 50000, 'qn': 10},\n",
              " '1007': {'name': 'Mic', 'pr': 1500, 'qn': 0},\n",
              " '1008': {'name': 'Case', 'pr': 599, 'qn': 5},\n",
              " '1009': {'name': 'keyboard', 'pr': 1999, 'qn': 20},\n",
              " '1010': {'name': 'gun', 'pr': 5000, 'qn': 50},\n",
              " '1011': {'name': 'pen', 'pr': 25, 'qn': 5},\n",
              " '1012': {'name': 'pencil', 'pr': 200, 'qn': 40},\n",
              " '1013': {'name': 'rubber', 'pr': 100, 'qn': 50},\n",
              " '1014': {'name': 'sharpner', 'pr': 500, 'qn': 250},\n",
              " '1015': {'name': 'buttons', 'pr': 25, 'qn': 5},\n",
              " '1016': {'name': 'table', 'pr': 20000, 'qn': 2},\n",
              " '1017': {'name': 'chairs', 'pr': 20000, 'qn': 20},\n",
              " '1018': {'name': 'bulbs', 'pr': 1000, 'qn': 10},\n",
              " '1019': {'name': 'tubes', 'pr': 7000, 'qn': 7},\n",
              " '1020': {'name': 'bags', 'pr': 3000, 'qn': 3},\n",
              " '1021': {'name': 'laptops', 'pr': 90000, 'qn': 1},\n",
              " '1022': {'name': 'pipe', 'pr': 1000, 'qn': 20},\n",
              " '1023': {'name': 'shoes', 'pr': 2000, 'qn': 2},\n",
              " '1024': {'name': 'paint', 'pr': 25000, 'qn': 5},\n",
              " '1025': {'name': 'books', 'pr': 1000, 'qn': 100},\n",
              " '1026': {'name': 'covers', 'pr': 200, 'qn': 2},\n",
              " '1027': {'name': 'threads', 'pr': 100, 'qn': 10},\n",
              " '1028': {'name': 'vessel', 'pr': 2000, 'qn': 23},\n",
              " '1029': {'name': 'battery', 'pr': 5000, 'qn': 20},\n",
              " '1030': {'name': 'chips', 'pr': 200, 'qn': 86},\n",
              " '34': {'br': 'abc', 'name': 'rope', 'pr': 2000, 'qn': 5}}"
            ]
          },
          "metadata": {},
          "execution_count": 18
        }
      ]
    },
    {
      "cell_type": "code",
      "metadata": {
        "colab": {
          "base_uri": "https://localhost:8080/"
        },
        "id": "ZlYf5LWBRLWz",
        "outputId": "f9d374d1-d031-4b4e-acd8-21c1422111b5"
      },
      "source": [
        "ui_pdt_id=str(input(\"Please Enter the Product ID: \"))\n",
        "ui_pdt_quan=int(input(\"Please Enter the quantity of the product you wish to purchase\"))\n",
        "ui_name=str(input(\"Please Enter your name: \"))\n",
        "ui_phn=int(input(\"Please enter your phone number: \"))\n",
        "\n",
        "if ui_pdt_id in record.keys():\n",
        "\n",
        "  if ui_pdt_quan<=record[ui_pdt_id][\"qn\"]:\n",
        "    print(\"**********************\")\n",
        "    print(ui_name,\"You bought:\")\n",
        "    print(\"Product:\",record[ui_pdt_id][\"name\"])\n",
        "    print(\"Price:\",record[ui_pdt_id][\"pr\"])\n",
        "    print(\"*********************\")\n",
        "    print(\"Billing amount:\",record[ui_pdt_id][\"pr\"]*ui_pdt_quan)\n",
        "\n",
        "    record[ui_pdt_id][\"qn\"]=record[ui_pdt_id][\"qn\"]-ui_pdt_quan\n",
        "\n",
        "    print(\"After your purchase,Inventory has \",record[ui_pdt_id][\"qn\"],record[ui_pdt_id][\"name\"],\" left\")\n",
        "  else:\n",
        "    print(\"Sorry that much quantity is not available in the inventory....\")\n",
        "    print(\"The inventory has only \",record[ui_pdt_id][\"qn\"],\" items left\")\n",
        "  \n",
        "else:\n",
        "  print(\"Sorry!!!!Cant find that product in the inventory\")\n",
        "  print(\"Please Enter the Correct Product ID\")\n",
        "\n",
        "js=json.dumps(record)\n",
        "fd=open('record.json','w')\n",
        "fd.write(js)\n",
        "fd.close()\n",
        "\n",
        "print(record)\n"
      ],
      "execution_count": 44,
      "outputs": [
        {
          "output_type": "stream",
          "name": "stdout",
          "text": [
            "Please Enter the Product ID: 1010\n",
            "Please Enter the quantity of the product you wish to purchase50\n",
            "Please Enter your name: rahul\n",
            "Please enter your phone number: 789\n",
            "**********************\n",
            "rahul You bought:\n",
            "Product: gun\n",
            "Price: 5000\n",
            "*********************\n",
            "Billing amount: 250000\n",
            "After your purchase,Inventory has  0 gun  left\n",
            "{'1001': {'name': 'Choco Cake', 'qn': 34, 'pr': 100}, '1002': {'name': 'Milk Cake', 'pr': 800, 'qn': 98}, '1003': {'name': 'Drink', 'pr': 85, 'qn': 99}, '1004': {'name': 'Candy', 'pr': 5, 'qn': 999}, '1005': {'name': 'Pen', 'pr': 20, 'qn': 99}, '1006': {'name': 'Phone', 'pr': 50000, 'qn': 10}, '1007': {'name': 'Mic', 'pr': 1500, 'qn': 0}, '1008': {'name': 'Case', 'pr': 599, 'qn': 5}, '1009': {'name': 'keyboard', 'pr': 1999, 'qn': 19}, '1010': {'name': 'gun', 'pr': 5000, 'qn': 0}, '1011': {'name': 'pen', 'pr': 25, 'qn': 5}, '1012': {'name': 'pencil', 'pr': 200, 'qn': 40}, '1013': {'name': 'rubber', 'pr': 100, 'qn': 50}, '1014': {'name': 'sharpner', 'pr': 500, 'qn': 250}, '1015': {'name': 'buttons', 'pr': 25, 'qn': 5}, '1016': {'name': 'table', 'pr': 20000, 'qn': 2}, '1017': {'name': 'chairs', 'pr': 20000, 'qn': 20}, '1018': {'name': 'bulbs', 'pr': 1000, 'qn': 10}, '1019': {'name': 'tubes', 'pr': 7000, 'qn': 7}, '1020': {'name': 'bags', 'pr': 3000, 'qn': 3}, '1021': {'name': 'laptops', 'pr': 90000, 'qn': 1}, '1022': {'name': 'pipe', 'pr': 1000, 'qn': 20}, '1023': {'name': 'shoes', 'pr': 2000, 'qn': 2}, '1024': {'name': 'paint', 'pr': 25000, 'qn': 5}, '1025': {'name': 'books', 'pr': 1000, 'qn': 99}, '1026': {'name': 'covers', 'pr': 200, 'qn': 2}, '1027': {'name': 'threads', 'pr': 100, 'qn': 10}, '1028': {'name': 'vessel', 'pr': 2000, 'qn': 23}, '1029': {'name': 'battery', 'pr': 5000, 'qn': 19}, '1030': {'name': 'chips', 'pr': 200, 'qn': 86}, '34': {'name': 'rope', 'pr': 2000, 'qn': 4, 'br': 'abc'}}\n"
          ]
        }
      ]
    },
    {
      "cell_type": "code",
      "metadata": {
        "id": "XOZDqIgxUzFm"
      },
      "source": [
        "#Sales JSON"
      ],
      "execution_count": 9,
      "outputs": []
    },
    {
      "cell_type": "code",
      "metadata": {
        "colab": {
          "base_uri": "https://localhost:8080/",
          "height": 171
        },
        "id": "uVPR90rJreey",
        "outputId": "de10e693-f078-4204-c690-64e6d3c07fbd"
      },
      "source": [
        "import json\n",
        "fd=open('sales.json','r')\n",
        "s=fd.read()\n",
        "sales=json.loads(s)\n",
        "\n",
        "sales[len(sales)+1]={\"prod_id\":ui_pdt_id,\"prod_quan\":ui_pdt_quan,\"bill_amount\":record[ui_pdt_id][\"pr\"]*ui_pdt_quan,\"ui_name\":ui_name,\"ui_phn\":ui_phn}\n",
        "\n",
        "sale=json.dumps(sales)\n",
        "fd=open('sales.json','w')\n",
        "w=fd.write(sale)\n",
        "fd.close()\n",
        "sale"
      ],
      "execution_count": 45,
      "outputs": [
        {
          "output_type": "execute_result",
          "data": {
            "application/vnd.google.colaboratory.intrinsic+json": {
              "type": "string"
            },
            "text/plain": [
              "'{\"1\": {\"prod_id\": \"1001\", \"prod_quan\": 34, \"bill_amount\": 1000, \"ui_name\": \"Roshni\", \"ui_phn\": 9090}, \"2\": {\"prod_id\": \"1029\", \"prod_quan\": 1, \"bill_amount\": 5000, \"ui_name\": \"Roshni\", \"ui_phn\": 789}, \"3\": {\"prod_id\": \"1025\", \"prod_quan\": 1, \"bill_amount\": 1000, \"ui_name\": \"khush\", \"ui_phn\": 7890}, \"4\": {\"prod_id\": \"1002\", \"prod_quan\": 2, \"bill_amount\": 1600, \"ui_name\": \"deep\", \"ui_phn\": 567}, \"5\": {\"prod_id\": \"1003\", \"prod_quan\": 1, \"bill_amount\": 85, \"ui_name\": \"geeta\", \"ui_phn\": 567}, \"6\": {\"prod_id\": \"1004\", \"prod_quan\": 1, \"bill_amount\": 5, \"ui_name\": \"santosh\", \"ui_phn\": 4567}, \"7\": {\"prod_id\": \"1005\", \"prod_quan\": 1, \"bill_amount\": 20, \"ui_name\": \"ronak\", \"ui_phn\": 4567}, \"8\": {\"prod_id\": \"1007\", \"prod_quan\": 2, \"bill_amount\": 3000, \"ui_name\": \"ashish\", \"ui_phn\": 345678}, \"9\": {\"prod_id\": \"1009\", \"prod_quan\": 1, \"bill_amount\": 1999, \"ui_name\": \"rohit\", \"ui_phn\": 45678}, \"10\": {\"prod_id\": \"1010\", \"prod_quan\": 50, \"bill_amount\": 250000, \"ui_name\": \"rahul\", \"ui_phn\": 789}}'"
            ]
          },
          "metadata": {},
          "execution_count": 45
        }
      ]
    },
    {
      "cell_type": "code",
      "metadata": {
        "id": "o6GPSXGWr3bg"
      },
      "source": [
        ""
      ],
      "execution_count": null,
      "outputs": []
    }
  ]
}