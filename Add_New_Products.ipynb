{
  "nbformat": 4,
  "nbformat_minor": 0,
  "metadata": {
    "colab": {
      "name": "Add new Products",
      "provenance": [],
      "collapsed_sections": []
    },
    "kernelspec": {
      "name": "python3",
      "display_name": "Python 3"
    },
    "language_info": {
      "name": "python"
    }
  },
  "cells": [
    {
      "cell_type": "code",
      "metadata": {
        "colab": {
          "base_uri": "https://localhost:8080/"
        },
        "id": "WucXLljkBY1q",
        "outputId": "54d5f66a-5375-435d-d26b-cfd512a67242"
      },
      "source": [
        "import json\n",
        "fd=open('record.json','r')\n",
        "r=fd.read()\n",
        "fd.close()\n",
        "\n",
        "record=json.loads(r)\n",
        "\n",
        "prod_id=str(input(\"Enter the product ID: \"))\n",
        "prod_name=str(input(\"Enter the product name: \"))\n",
        "prod_brand=str(input(\"Enter product brand: \"))\n",
        "prod_price=int(input(\"Enter the product price: \"))\n",
        "prod_quan=int(input(\"Enter the product quantity: \"))\n",
        "\n",
        "if prod_id in record:\n",
        "  record[prod_id]['qn']=record[prod_id]['qn']+prod_quan\n",
        "  record[prod_id]={\"name\":prod_name,\"pr\":prod_price,\"qn\":record[prod_id]['qn'],\"br\":prod_brand}\n",
        "else:\n",
        "  record[prod_id]={\"name\":prod_name,\"pr\":prod_price,\"qn\":prod_quan,\"br\":prod_brand}\n",
        "\n",
        "print(\"****************************************************************\")\n",
        "print(\"Your item has been successfully placed into the inventory!!! \")\n",
        "print(\"You added \")\n",
        "print(\"Product ID: \",prod_id)\n",
        "print(\"Product name: \",prod_name)\n",
        "print(\"Product brand: \",prod_brand)\n",
        "print(\"****************************************************************\")\n",
        "\n",
        "js=json.dumps(record)\n",
        "\n",
        "fd=open('record.json','w')\n",
        "fd.write(js)\n",
        "fd.close()\n",
        "\n",
        "print(record)"
      ],
      "execution_count": 4,
      "outputs": [
        {
          "output_type": "stream",
          "name": "stdout",
          "text": [
            "Enter the product ID: 35\n",
            "Enter the product name: cycles\n",
            "Enter product brand: neon\n",
            "Enter the product price: 5555\n",
            "Enter the product quantity: 20\n",
            "****************************************************************\n",
            "Your item has been successfully placed into the inventory!!! \n",
            "You added \n",
            "Product ID:  35\n",
            "Product name:  cycles\n",
            "Product brand:  neon\n",
            "****************************************************************\n",
            "{'1001': {'name': 'Choco Cake', 'qn': 34, 'pr': 100}, '1002': {'name': 'Milk Cake', 'pr': 800, 'qn': 98}, '1003': {'name': 'Drink', 'pr': 85, 'qn': 99}, '1004': {'name': 'Candy', 'pr': 5, 'qn': 999}, '1005': {'name': 'Pen', 'pr': 20, 'qn': 99}, '1006': {'name': 'Phone', 'pr': 50000, 'qn': 10}, '1007': {'name': 'Mic', 'pr': 1500, 'qn': 0}, '1008': {'name': 'Case', 'pr': 599, 'qn': 5}, '1009': {'name': 'keyboard', 'pr': 1999, 'qn': 19}, '1010': {'name': 'gun', 'pr': 5000, 'qn': 0}, '1011': {'name': 'pen', 'pr': 25, 'qn': 5}, '1012': {'name': 'pencil', 'pr': 200, 'qn': 40}, '1013': {'name': 'rubber', 'pr': 100, 'qn': 50}, '1014': {'name': 'sharpner', 'pr': 500, 'qn': 250}, '1015': {'name': 'buttons', 'pr': 25, 'qn': 5}, '1016': {'name': 'table', 'pr': 20000, 'qn': 2}, '1017': {'name': 'chairs', 'pr': 20000, 'qn': 20}, '1018': {'name': 'bulbs', 'pr': 1000, 'qn': 10}, '1019': {'name': 'tubes', 'pr': 7000, 'qn': 7}, '1020': {'name': 'bags', 'pr': 3000, 'qn': 3}, '1021': {'name': 'laptops', 'pr': 90000, 'qn': 1}, '1022': {'name': 'pipe', 'pr': 1000, 'qn': 20}, '1023': {'name': 'shoes', 'pr': 2000, 'qn': 2}, '1024': {'name': 'paint', 'pr': 25000, 'qn': 5}, '1025': {'name': 'books', 'pr': 1000, 'qn': 99}, '1026': {'name': 'covers', 'pr': 200, 'qn': 2}, '1027': {'name': 'threads', 'pr': 100, 'qn': 10}, '1028': {'name': 'vessel', 'pr': 2000, 'qn': 23}, '1029': {'name': 'battery', 'pr': 5000, 'qn': 19}, '1030': {'name': 'chips', 'pr': 200, 'qn': 86}, '34': {'name': 'rope', 'pr': 2000, 'qn': 4, 'br': 'abc'}, '35': {'name': 'cycles', 'pr': 5555, 'qn': 20, 'br': 'neon'}}\n"
          ]
        }
      ]
    },
    {
      "cell_type": "code",
      "metadata": {
        "id": "M1NBL6QbhOoK"
      },
      "source": [
        ""
      ],
      "execution_count": null,
      "outputs": []
    },
    {
      "cell_type": "code",
      "metadata": {
        "id": "JDXwyh-sBzEd"
      },
      "source": [
        "\n"
      ],
      "execution_count": null,
      "outputs": []
    },
    {
      "cell_type": "code",
      "metadata": {
        "id": "aOeL8SwNi1Zw"
      },
      "source": [
        ""
      ],
      "execution_count": null,
      "outputs": []
    },
    {
      "cell_type": "code",
      "metadata": {
        "id": "6kQO6SQtXsPr"
      },
      "source": [
        ""
      ],
      "execution_count": null,
      "outputs": []
    },
    {
      "cell_type": "code",
      "metadata": {
        "id": "SxtjrPPvYoAB"
      },
      "source": [
        ""
      ],
      "execution_count": null,
      "outputs": []
    },
    {
      "cell_type": "code",
      "metadata": {
        "id": "5ByH7oRseSiq"
      },
      "source": [
        ""
      ],
      "execution_count": null,
      "outputs": []
    },
    {
      "cell_type": "code",
      "metadata": {
        "id": "_JAMhpPibSbR"
      },
      "source": [
        "\n"
      ],
      "execution_count": null,
      "outputs": []
    },
    {
      "cell_type": "code",
      "metadata": {
        "id": "yJLkUp7fbXVp"
      },
      "source": [
        ""
      ],
      "execution_count": null,
      "outputs": []
    },
    {
      "cell_type": "code",
      "metadata": {
        "id": "CQH9QMsCc31m"
      },
      "source": [
        ""
      ],
      "execution_count": null,
      "outputs": []
    }
  ]
}